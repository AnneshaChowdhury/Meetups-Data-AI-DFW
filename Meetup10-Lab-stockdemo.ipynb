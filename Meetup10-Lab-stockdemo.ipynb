{
 "cells": [
  {
   "cell_type": "code",
   "execution_count": 1,
   "metadata": {},
   "outputs": [
    {
     "name": "stderr",
     "output_type": "stream",
     "text": [
      "Using TensorFlow backend.\n"
     ]
    }
   ],
   "source": [
    "%matplotlib notebook\n",
    "%matplotlib inline\n",
    "\n",
    "import os\n",
    "os.environ['KERAS_BACKEND'] = \"tensorflow\" # you can use \"cntk\" or \"tensorflow\"\n",
    "import time\n",
    "import datetime as dt\n",
    "import numpy as np\n",
    "from numpy import newaxis\n",
    "from numpy import array\n",
    "import matplotlib.pyplot as plt\n",
    "import pandas\n",
    "from urllib.request import urlretrieve\n",
    "from keras.layers.core import Dense, Activation, Dropout\n",
    "from keras.layers.recurrent import LSTM\n",
    "from keras.models import Sequential"
   ]
  },
  {
   "cell_type": "markdown",
   "metadata": {},
   "source": [
    "# Load Microsoft (MSFT) stock data from Quandl"
   ]
  },
  {
   "cell_type": "code",
   "execution_count": 2,
   "metadata": {},
   "outputs": [
    {
     "name": "stdout",
     "output_type": "stream",
     "text": [
      "Downloading https://www.quandl.com/api/v3/datasets/WIKI/MSFT.csv?&start_date=2005-01-01&end_date=2017-10-01&order=asc\n",
      "Download Finished\n"
     ]
    }
   ],
   "source": [
    "start_date = \"2005-01-01\"\n",
    "end_date =   \"2017-10-01\"\n",
    "stock = \"MSFT\"\n",
    "order = \"asc\"\n",
    "parameters = '?&start_date='+start_date+'&end_date='+end_date+'&order='+order\n",
    "file = stock+\".csv\"\n",
    "\n",
    "def download(url, file):\n",
    "    \"\"\"\n",
    "    Download file from <url>\n",
    "    :param url: URL to file\n",
    "    :param file: Local file path\n",
    "    \"\"\"\n",
    "    if not os.path.isfile(file):\n",
    "        print('Downloading ' + url )\n",
    "        urlretrieve(url, file)\n",
    "        print('Download Finished')\n",
    "    else:\n",
    "        print('File is already on disk')\n",
    "\n",
    "# Download  dataset.\n",
    "download('https://www.quandl.com/api/v3/datasets/WIKI/' + stock + '.csv' + parameters, file)"
   ]
  },
  {
   "cell_type": "code",
   "execution_count": 3,
   "metadata": {},
   "outputs": [],
   "source": [
    "data = pandas.read_csv(file, index_col='Date')\n",
    "# Converting the index as date\n",
    "data.index = pandas.to_datetime(data.index)"
   ]
  },
  {
   "cell_type": "code",
   "execution_count": 4,
   "metadata": {},
   "outputs": [
    {
     "data": {
      "text/html": [
       "<div>\n",
       "<table border=\"1\" class=\"dataframe\">\n",
       "  <thead>\n",
       "    <tr style=\"text-align: right;\">\n",
       "      <th></th>\n",
       "      <th>Open</th>\n",
       "      <th>High</th>\n",
       "      <th>Low</th>\n",
       "      <th>Close</th>\n",
       "      <th>Volume</th>\n",
       "      <th>Ex-Dividend</th>\n",
       "      <th>Split Ratio</th>\n",
       "      <th>Adj. Open</th>\n",
       "      <th>Adj. High</th>\n",
       "      <th>Adj. Low</th>\n",
       "      <th>Adj. Close</th>\n",
       "      <th>Adj. Volume</th>\n",
       "    </tr>\n",
       "  </thead>\n",
       "  <tbody>\n",
       "    <tr>\n",
       "      <th>count</th>\n",
       "      <td>3209.000000</td>\n",
       "      <td>3209.000000</td>\n",
       "      <td>3209.000000</td>\n",
       "      <td>3209.000000</td>\n",
       "      <td>3.209000e+03</td>\n",
       "      <td>3209.000000</td>\n",
       "      <td>3209.0</td>\n",
       "      <td>3209.000000</td>\n",
       "      <td>3209.000000</td>\n",
       "      <td>3209.000000</td>\n",
       "      <td>3209.000000</td>\n",
       "      <td>3.209000e+03</td>\n",
       "    </tr>\n",
       "    <tr>\n",
       "      <th>mean</th>\n",
       "      <td>34.766518</td>\n",
       "      <td>35.083899</td>\n",
       "      <td>34.459177</td>\n",
       "      <td>34.781746</td>\n",
       "      <td>5.335675e+07</td>\n",
       "      <td>0.003175</td>\n",
       "      <td>1.0</td>\n",
       "      <td>30.437401</td>\n",
       "      <td>30.711850</td>\n",
       "      <td>30.170956</td>\n",
       "      <td>30.451375</td>\n",
       "      <td>5.335675e+07</td>\n",
       "    </tr>\n",
       "    <tr>\n",
       "      <th>std</th>\n",
       "      <td>12.956947</td>\n",
       "      <td>13.014674</td>\n",
       "      <td>12.893192</td>\n",
       "      <td>12.969427</td>\n",
       "      <td>3.064675e+07</td>\n",
       "      <td>0.028138</td>\n",
       "      <td>0.0</td>\n",
       "      <td>14.271340</td>\n",
       "      <td>14.346367</td>\n",
       "      <td>14.190903</td>\n",
       "      <td>14.283822</td>\n",
       "      <td>3.064675e+07</td>\n",
       "    </tr>\n",
       "    <tr>\n",
       "      <th>min</th>\n",
       "      <td>15.200000</td>\n",
       "      <td>15.620000</td>\n",
       "      <td>14.870000</td>\n",
       "      <td>15.150000</td>\n",
       "      <td>8.409616e+06</td>\n",
       "      <td>0.000000</td>\n",
       "      <td>1.0</td>\n",
       "      <td>12.154701</td>\n",
       "      <td>12.490554</td>\n",
       "      <td>11.890816</td>\n",
       "      <td>12.114718</td>\n",
       "      <td>8.409616e+06</td>\n",
       "    </tr>\n",
       "    <tr>\n",
       "      <th>25%</th>\n",
       "      <td>26.140000</td>\n",
       "      <td>26.400000</td>\n",
       "      <td>25.880000</td>\n",
       "      <td>26.150000</td>\n",
       "      <td>3.333800e+07</td>\n",
       "      <td>0.000000</td>\n",
       "      <td>1.0</td>\n",
       "      <td>20.835344</td>\n",
       "      <td>21.051801</td>\n",
       "      <td>20.640937</td>\n",
       "      <td>20.837898</td>\n",
       "      <td>3.333800e+07</td>\n",
       "    </tr>\n",
       "    <tr>\n",
       "      <th>50%</th>\n",
       "      <td>29.320000</td>\n",
       "      <td>29.600000</td>\n",
       "      <td>29.040000</td>\n",
       "      <td>29.340000</td>\n",
       "      <td>4.845660e+07</td>\n",
       "      <td>0.000000</td>\n",
       "      <td>1.0</td>\n",
       "      <td>23.759089</td>\n",
       "      <td>23.949579</td>\n",
       "      <td>23.541809</td>\n",
       "      <td>23.747730</td>\n",
       "      <td>4.845660e+07</td>\n",
       "    </tr>\n",
       "    <tr>\n",
       "      <th>75%</th>\n",
       "      <td>41.630000</td>\n",
       "      <td>41.990000</td>\n",
       "      <td>41.330100</td>\n",
       "      <td>41.685000</td>\n",
       "      <td>6.502900e+07</td>\n",
       "      <td>0.000000</td>\n",
       "      <td>1.0</td>\n",
       "      <td>38.480788</td>\n",
       "      <td>38.854207</td>\n",
       "      <td>38.164684</td>\n",
       "      <td>38.530860</td>\n",
       "      <td>6.502900e+07</td>\n",
       "    </tr>\n",
       "    <tr>\n",
       "      <th>max</th>\n",
       "      <td>75.350000</td>\n",
       "      <td>75.970000</td>\n",
       "      <td>75.040000</td>\n",
       "      <td>75.440000</td>\n",
       "      <td>5.910522e+08</td>\n",
       "      <td>0.390000</td>\n",
       "      <td>1.0</td>\n",
       "      <td>74.970540</td>\n",
       "      <td>75.587417</td>\n",
       "      <td>74.662101</td>\n",
       "      <td>75.060086</td>\n",
       "      <td>5.910522e+08</td>\n",
       "    </tr>\n",
       "  </tbody>\n",
       "</table>\n",
       "</div>"
      ],
      "text/plain": [
       "              Open         High          Low        Close        Volume  \\\n",
       "count  3209.000000  3209.000000  3209.000000  3209.000000  3.209000e+03   \n",
       "mean     34.766518    35.083899    34.459177    34.781746  5.335675e+07   \n",
       "std      12.956947    13.014674    12.893192    12.969427  3.064675e+07   \n",
       "min      15.200000    15.620000    14.870000    15.150000  8.409616e+06   \n",
       "25%      26.140000    26.400000    25.880000    26.150000  3.333800e+07   \n",
       "50%      29.320000    29.600000    29.040000    29.340000  4.845660e+07   \n",
       "75%      41.630000    41.990000    41.330100    41.685000  6.502900e+07   \n",
       "max      75.350000    75.970000    75.040000    75.440000  5.910522e+08   \n",
       "\n",
       "       Ex-Dividend  Split Ratio    Adj. Open    Adj. High     Adj. Low  \\\n",
       "count  3209.000000       3209.0  3209.000000  3209.000000  3209.000000   \n",
       "mean      0.003175          1.0    30.437401    30.711850    30.170956   \n",
       "std       0.028138          0.0    14.271340    14.346367    14.190903   \n",
       "min       0.000000          1.0    12.154701    12.490554    11.890816   \n",
       "25%       0.000000          1.0    20.835344    21.051801    20.640937   \n",
       "50%       0.000000          1.0    23.759089    23.949579    23.541809   \n",
       "75%       0.000000          1.0    38.480788    38.854207    38.164684   \n",
       "max       0.390000          1.0    74.970540    75.587417    74.662101   \n",
       "\n",
       "        Adj. Close   Adj. Volume  \n",
       "count  3209.000000  3.209000e+03  \n",
       "mean     30.451375  5.335675e+07  \n",
       "std      14.283822  3.064675e+07  \n",
       "min      12.114718  8.409616e+06  \n",
       "25%      20.837898  3.333800e+07  \n",
       "50%      23.747730  4.845660e+07  \n",
       "75%      38.530860  6.502900e+07  \n",
       "max      75.060086  5.910522e+08  "
      ]
     },
     "execution_count": 4,
     "metadata": {},
     "output_type": "execute_result"
    }
   ],
   "source": [
    "data.describe()"
   ]
  },
  {
   "cell_type": "code",
   "execution_count": 5,
   "metadata": {},
   "outputs": [
    {
     "data": {
      "text/html": [
       "<div>\n",
       "<table border=\"1\" class=\"dataframe\">\n",
       "  <thead>\n",
       "    <tr style=\"text-align: right;\">\n",
       "      <th></th>\n",
       "      <th>Open</th>\n",
       "      <th>High</th>\n",
       "      <th>Low</th>\n",
       "      <th>Close</th>\n",
       "      <th>Volume</th>\n",
       "      <th>Ex-Dividend</th>\n",
       "      <th>Split Ratio</th>\n",
       "      <th>Adj. Open</th>\n",
       "      <th>Adj. High</th>\n",
       "      <th>Adj. Low</th>\n",
       "      <th>Adj. Close</th>\n",
       "      <th>Adj. Volume</th>\n",
       "    </tr>\n",
       "    <tr>\n",
       "      <th>Date</th>\n",
       "      <th></th>\n",
       "      <th></th>\n",
       "      <th></th>\n",
       "      <th></th>\n",
       "      <th></th>\n",
       "      <th></th>\n",
       "      <th></th>\n",
       "      <th></th>\n",
       "      <th></th>\n",
       "      <th></th>\n",
       "      <th></th>\n",
       "      <th></th>\n",
       "    </tr>\n",
       "  </thead>\n",
       "  <tbody>\n",
       "    <tr>\n",
       "      <th>2005-01-03</th>\n",
       "      <td>26.80</td>\n",
       "      <td>26.95</td>\n",
       "      <td>26.6490</td>\n",
       "      <td>26.74</td>\n",
       "      <td>65002900.0</td>\n",
       "      <td>0.0</td>\n",
       "      <td>1.0</td>\n",
       "      <td>20.079805</td>\n",
       "      <td>20.192192</td>\n",
       "      <td>19.966669</td>\n",
       "      <td>20.034850</td>\n",
       "      <td>65002900.0</td>\n",
       "    </tr>\n",
       "    <tr>\n",
       "      <th>2005-01-04</th>\n",
       "      <td>26.86</td>\n",
       "      <td>27.10</td>\n",
       "      <td>26.6600</td>\n",
       "      <td>26.84</td>\n",
       "      <td>109442100.0</td>\n",
       "      <td>0.0</td>\n",
       "      <td>1.0</td>\n",
       "      <td>20.124760</td>\n",
       "      <td>20.304579</td>\n",
       "      <td>19.974910</td>\n",
       "      <td>20.109775</td>\n",
       "      <td>109442100.0</td>\n",
       "    </tr>\n",
       "    <tr>\n",
       "      <th>2005-01-05</th>\n",
       "      <td>26.84</td>\n",
       "      <td>27.10</td>\n",
       "      <td>26.7600</td>\n",
       "      <td>26.78</td>\n",
       "      <td>72463500.0</td>\n",
       "      <td>0.0</td>\n",
       "      <td>1.0</td>\n",
       "      <td>20.109775</td>\n",
       "      <td>20.304579</td>\n",
       "      <td>20.049835</td>\n",
       "      <td>20.064820</td>\n",
       "      <td>72463500.0</td>\n",
       "    </tr>\n",
       "    <tr>\n",
       "      <th>2005-01-06</th>\n",
       "      <td>26.86</td>\n",
       "      <td>27.06</td>\n",
       "      <td>26.6399</td>\n",
       "      <td>26.75</td>\n",
       "      <td>76890500.0</td>\n",
       "      <td>0.0</td>\n",
       "      <td>1.0</td>\n",
       "      <td>20.124760</td>\n",
       "      <td>20.274609</td>\n",
       "      <td>19.959850</td>\n",
       "      <td>20.042342</td>\n",
       "      <td>76890500.0</td>\n",
       "    </tr>\n",
       "    <tr>\n",
       "      <th>2005-01-07</th>\n",
       "      <td>26.83</td>\n",
       "      <td>26.89</td>\n",
       "      <td>26.6200</td>\n",
       "      <td>26.67</td>\n",
       "      <td>68723300.0</td>\n",
       "      <td>0.0</td>\n",
       "      <td>1.0</td>\n",
       "      <td>20.102282</td>\n",
       "      <td>20.147237</td>\n",
       "      <td>19.944940</td>\n",
       "      <td>19.982403</td>\n",
       "      <td>68723300.0</td>\n",
       "    </tr>\n",
       "  </tbody>\n",
       "</table>\n",
       "</div>"
      ],
      "text/plain": [
       "             Open   High      Low  Close       Volume  Ex-Dividend  \\\n",
       "Date                                                                 \n",
       "2005-01-03  26.80  26.95  26.6490  26.74   65002900.0          0.0   \n",
       "2005-01-04  26.86  27.10  26.6600  26.84  109442100.0          0.0   \n",
       "2005-01-05  26.84  27.10  26.7600  26.78   72463500.0          0.0   \n",
       "2005-01-06  26.86  27.06  26.6399  26.75   76890500.0          0.0   \n",
       "2005-01-07  26.83  26.89  26.6200  26.67   68723300.0          0.0   \n",
       "\n",
       "            Split Ratio  Adj. Open  Adj. High   Adj. Low  Adj. Close  \\\n",
       "Date                                                                   \n",
       "2005-01-03          1.0  20.079805  20.192192  19.966669   20.034850   \n",
       "2005-01-04          1.0  20.124760  20.304579  19.974910   20.109775   \n",
       "2005-01-05          1.0  20.109775  20.304579  20.049835   20.064820   \n",
       "2005-01-06          1.0  20.124760  20.274609  19.959850   20.042342   \n",
       "2005-01-07          1.0  20.102282  20.147237  19.944940   19.982403   \n",
       "\n",
       "            Adj. Volume  \n",
       "Date                     \n",
       "2005-01-03   65002900.0  \n",
       "2005-01-04  109442100.0  \n",
       "2005-01-05   72463500.0  \n",
       "2005-01-06   76890500.0  \n",
       "2005-01-07   68723300.0  "
      ]
     },
     "execution_count": 5,
     "metadata": {},
     "output_type": "execute_result"
    }
   ],
   "source": [
    "data.head()"
   ]
  },
  {
   "cell_type": "markdown",
   "metadata": {},
   "source": [
    "# Data Normalization and Columns pick"
   ]
  },
  {
   "cell_type": "code",
   "execution_count": 6,
   "metadata": {},
   "outputs": [
    {
     "data": {
      "text/html": [
       "<div>\n",
       "<table border=\"1\" class=\"dataframe\">\n",
       "  <thead>\n",
       "    <tr style=\"text-align: right;\">\n",
       "      <th></th>\n",
       "      <th>Open</th>\n",
       "      <th>High</th>\n",
       "      <th>Low</th>\n",
       "      <th>Volume</th>\n",
       "      <th>Close</th>\n",
       "    </tr>\n",
       "    <tr>\n",
       "      <th>Date</th>\n",
       "      <th></th>\n",
       "      <th></th>\n",
       "      <th></th>\n",
       "      <th></th>\n",
       "      <th></th>\n",
       "    </tr>\n",
       "  </thead>\n",
       "  <tbody>\n",
       "    <tr>\n",
       "      <th>2005-01-03</th>\n",
       "      <td>0.192851</td>\n",
       "      <td>0.187738</td>\n",
       "      <td>0.195762</td>\n",
       "      <td>0.097132</td>\n",
       "      <td>0.192238</td>\n",
       "    </tr>\n",
       "    <tr>\n",
       "      <th>2005-01-04</th>\n",
       "      <td>0.193849</td>\n",
       "      <td>0.190224</td>\n",
       "      <td>0.195945</td>\n",
       "      <td>0.173404</td>\n",
       "      <td>0.193896</td>\n",
       "    </tr>\n",
       "    <tr>\n",
       "      <th>2005-01-05</th>\n",
       "      <td>0.193516</td>\n",
       "      <td>0.190224</td>\n",
       "      <td>0.197607</td>\n",
       "      <td>0.109937</td>\n",
       "      <td>0.192901</td>\n",
       "    </tr>\n",
       "    <tr>\n",
       "      <th>2005-01-06</th>\n",
       "      <td>0.193849</td>\n",
       "      <td>0.189561</td>\n",
       "      <td>0.195611</td>\n",
       "      <td>0.117535</td>\n",
       "      <td>0.192403</td>\n",
       "    </tr>\n",
       "    <tr>\n",
       "      <th>2005-01-07</th>\n",
       "      <td>0.193350</td>\n",
       "      <td>0.186744</td>\n",
       "      <td>0.195280</td>\n",
       "      <td>0.103517</td>\n",
       "      <td>0.191076</td>\n",
       "    </tr>\n",
       "  </tbody>\n",
       "</table>\n",
       "</div>"
      ],
      "text/plain": [
       "                Open      High       Low    Volume     Close\n",
       "Date                                                        \n",
       "2005-01-03  0.192851  0.187738  0.195762  0.097132  0.192238\n",
       "2005-01-04  0.193849  0.190224  0.195945  0.173404  0.193896\n",
       "2005-01-05  0.193516  0.190224  0.197607  0.109937  0.192901\n",
       "2005-01-06  0.193849  0.189561  0.195611  0.117535  0.192403\n",
       "2005-01-07  0.193350  0.186744  0.195280  0.103517  0.191076"
      ]
     },
     "execution_count": 6,
     "metadata": {},
     "output_type": "execute_result"
    }
   ],
   "source": [
    "#normalise data\n",
    "from sklearn.preprocessing import MinMaxScaler\n",
    "from sklearn.preprocessing import StandardScaler\n",
    "scaler = MinMaxScaler()\n",
    "cols = ['Open','High','Low','Volume','Close']\n",
    "#cols = ['Adj. Open','Adj. High','Adj. Low','Adj. Volume','Adj. Close']\n",
    "df = pandas.DataFrame(scaler.fit_transform(data[cols]) , columns=cols, index=data.index, dtype=\"float32\") #Normalize\n",
    "df.head()"
   ]
  },
  {
   "cell_type": "markdown",
   "metadata": {},
   "source": [
    "# Function to load/prepare data for modeling"
   ]
  },
  {
   "cell_type": "code",
   "execution_count": 7,
   "metadata": {
    "collapsed": true
   },
   "outputs": [],
   "source": [
    "def load_data(stock, seq_len):\n",
    "    amount_of_features = len(stock.columns)\n",
    "    data = stock.as_matrix() #converts to numpy\n",
    "    sequence_length = seq_len + 1\n",
    "    result = []\n",
    "    for index in range(len(data) - sequence_length):\n",
    "        result.append(data[index: index + sequence_length])\n",
    "\n",
    "    result = np.array(result)\n",
    "    row = round(0.9 * result.shape[0])\n",
    "    train = result[:int(row), :]\n",
    "    x_train = train[:, :-1]\n",
    "    y_train = train[:, -1][:,-1]\n",
    "    x_test = result[int(row):, :-1]\n",
    "    y_test = result[int(row):, -1][:,-1]\n",
    "\n",
    "    x_train = np.reshape(x_train, (x_train.shape[0], x_train.shape[1], amount_of_features))\n",
    "    x_test = np.reshape(x_test, (x_test.shape[0], x_test.shape[1], amount_of_features))  \n",
    "\n",
    "    return [x_train, y_train, x_test, y_test]"
   ]
  },
  {
   "cell_type": "markdown",
   "metadata": {},
   "source": [
    "# Function to define the RNN model"
   ]
  },
  {
   "cell_type": "code",
   "execution_count": 8,
   "metadata": {
    "collapsed": true
   },
   "outputs": [],
   "source": [
    "def build_model(moving_window, num_features):\n",
    "        d = 0.2\n",
    "        model = Sequential()\n",
    "        model.add(LSTM(64, input_shape=(moving_window, num_features), return_sequences=False))\n",
    "        model.add(Dropout(d))\n",
    "        model.add(Dense(16, kernel_initializer=\"uniform\", activation=\"relu\"))\n",
    "        model.add(Dense(1, kernel_initializer=\"uniform\",activation='relu'))\n",
    "        model.compile(loss='mse', optimizer='adam', metrics=['mape'])\n",
    "        return model"
   ]
  },
  {
   "cell_type": "markdown",
   "metadata": {},
   "source": [
    "# Run the model"
   ]
  },
  {
   "cell_type": "code",
   "execution_count": 9,
   "metadata": {},
   "outputs": [
    {
     "name": "stdout",
     "output_type": "stream",
     "text": [
      "X_train (2878, 10, 5)\n",
      "y_train (2878,)\n",
      "X_test (320, 10, 5)\n",
      "y_test (320,)\n"
     ]
    }
   ],
   "source": [
    "window = 10\n",
    "X_train, y_train, X_test, y_test = load_data(df[::-1], window)\n",
    "print(\"X_train\", X_train.shape)\n",
    "print(\"y_train\", y_train.shape)\n",
    "print(\"X_test\", X_test.shape)\n",
    "print(\"y_test\", y_test.shape)"
   ]
  },
  {
   "cell_type": "code",
   "execution_count": 10,
   "metadata": {},
   "outputs": [],
   "source": [
    "model = build_model(window,len(X_train[0][0]))"
   ]
  },
  {
   "cell_type": "code",
   "execution_count": 11,
   "metadata": {},
   "outputs": [
    {
     "name": "stdout",
     "output_type": "stream",
     "text": [
      "CPU times: user 1min 19s, sys: 16.9 s, total: 1min 36s\n",
      "Wall time: 1min\n"
     ]
    },
    {
     "data": {
      "text/plain": [
       "<keras.callbacks.History at 0x7fd4f4602ac8>"
      ]
     },
     "execution_count": 11,
     "metadata": {},
     "output_type": "execute_result"
    }
   ],
   "source": [
    "%%time\n",
    "#Step 3 Train the model\n",
    "model.fit(\n",
    "    X_train,\n",
    "    y_train,\n",
    "    batch_size=1024,\n",
    "    epochs=1000,\n",
    "    validation_split=0.1,\n",
    "    verbose=0)"
   ]
  },
  {
   "cell_type": "markdown",
   "metadata": {},
   "source": [
    "# Check and plot results"
   ]
  },
  {
   "cell_type": "code",
   "execution_count": 12,
   "metadata": {},
   "outputs": [
    {
     "name": "stdout",
     "output_type": "stream",
     "text": [
      "Train Score: 0.00038 MSE (0.01962 RMSE)\n",
      "Test Score: 0.00001 MSE (0.00385 RMSE)\n"
     ]
    }
   ],
   "source": [
    "import math\n",
    "\n",
    "trainScore = model.evaluate(X_train, y_train, verbose=0)\n",
    "print('Train Score: %.5f MSE (%.5f RMSE)' % (trainScore[0], math.sqrt(trainScore[0])))\n",
    "\n",
    "testScore = model.evaluate(X_test, y_test, verbose=0)\n",
    "print('Test Score: %.5f MSE (%.5f RMSE)' % (testScore[0], math.sqrt(testScore[0])))"
   ]
  },
  {
   "cell_type": "code",
   "execution_count": 13,
   "metadata": {},
   "outputs": [],
   "source": [
    "# print(X_test[-1])\n",
    "yhat = model.predict(X_test)"
   ]
  },
  {
   "cell_type": "code",
   "execution_count": 14,
   "metadata": {
    "scrolled": true
   },
   "outputs": [
    {
     "data": {
      "image/png": "[encoded data removed]",
      "text/plain": [
       "<matplotlib.figure.Figure at 0x7fd5280c9470>"
      ]
     },
     "metadata": {},
     "output_type": "display_data"
    }
   ],
   "source": [
    "plt.plot(yhat,color='red', label='prediction')\n",
    "plt.plot(y_test,color='blue', label='y_test')\n",
    "plt.legend(loc='lower left')\n",
    "plt.show()"
   ]
  },
  {
   "cell_type": "markdown",
   "metadata": {},
   "source": [
    "# Saving the model\n",
    "The LSTM network is made up of two components, the architecture and the model weights. We'll save these model components in two files, the architecture in a json file that the keras package can use to rebuild the model, and the weights in an HDF5 heirachy that rebuild the exact model."
   ]
  },
  {
   "cell_type": "code",
   "execution_count": 16,
   "metadata": {},
   "outputs": [
    {
     "name": "stdout",
     "output_type": "stream",
     "text": [
      "Model saved\n"
     ]
    }
   ],
   "source": [
    "import os\n",
    "import h5py\n",
    " \n",
    "# We'll serialize the model in json format\n",
    "LSTM_MODEL = './sotckdemo-model/modellstm.json'\n",
    "\n",
    "# and store the weights in h5\n",
    "MODEL_WEIGHTS = './sotckdemo-model/modellstm.h5'    \n",
    "    \n",
    "# save model\n",
    "# serialize model to JSON\n",
    "model_json = model.to_json()\n",
    "with open(LSTM_MODEL, \"w\") as json_file:\n",
    "    json_file.write(model_json)\n",
    "# serialize weights to HDF5\n",
    "model.save_weights(MODEL_WEIGHTS)\n",
    "print(\"Model saved\")"
   ]
  },
  {
   "cell_type": "markdown",
   "metadata": {},
   "source": [
    "To test the save operations, we can reload the model files into a test model loaded_model and rescore the test dataset."
   ]
  },
  {
   "cell_type": "code",
   "execution_count": 17,
   "metadata": {},
   "outputs": [
    {
     "name": "stdout",
     "output_type": "stream",
     "text": [
      "Model loaded\n"
     ]
    }
   ],
   "source": [
    "from keras.models import model_from_json\n",
    "\n",
    "# load json and create model\n",
    "json_file = open(LSTM_MODEL, 'r')\n",
    "loaded_model_json = json_file.read()\n",
    "json_file.close()\n",
    "loaded_model = model_from_json(loaded_model_json)\n",
    "# load weights into new model\n",
    "loaded_model.load_weights(MODEL_WEIGHTS)\n",
    "print(\"Model loaded\")"
   ]
  },
  {
   "cell_type": "markdown",
   "metadata": {},
   "source": [
    "The model constructed from storage can be used to predict"
   ]
  },
  {
   "cell_type": "code",
   "execution_count": 32,
   "metadata": {},
   "outputs": [
    {
     "name": "stdout",
     "output_type": "stream",
     "text": [
      "1/1 [==============================] - 0s 4ms/step\n",
      "(1, 1)\n",
      "[[ 0.19560334]]\n"
     ]
    }
   ],
   "source": [
    "score = loaded_model.predict_proba(X_test[:1],verbose=1)\n",
    "print(score.shape)\n",
    "print(score)"
   ]
  },
  {
   "cell_type": "markdown",
   "metadata": {
    "collapsed": true
   },
   "source": [
    "# So, where to go from here?"
   ]
  },
  {
   "cell_type": "markdown",
   "metadata": {},
   "source": [
    "Well, as you can imagine, this is a simple MANY-TO-ONE prediction. The model is predicting the next Time Step by getting as input a window (sequence) of past measures.\n",
    "This model can be improved by:\n",
    "    1. Making the series stationary and using StandardScaler vs MaxMinScaler\n",
    "    2. Predicting the next N steps (multi-step prediction) by using seq2seq models vs a simple RNN (like above)\n",
    "    3. And the most important of all: Adding more signals/features/columns\n"
   ]
  }
 ],
 "metadata": {
  "kernelspec": {
   "display_name": "Python 3",
   "language": "python",
   "name": "python3"
  },
  "language_info": {
   "codemirror_mode": {
    "name": "ipython",
    "version": 3
   },
   "file_extension": ".py",
   "mimetype": "text/x-python",
   "name": "python",
   "nbconvert_exporter": "python",
   "pygments_lexer": "ipython3",
   "version": "3.5.2"
  },
  "widgets": {
   "state": {},
   "version": "1.1.2"
  }
 },
 "nbformat": 4,
 "nbformat_minor": 2
}

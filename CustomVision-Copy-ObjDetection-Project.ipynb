{
 "cells": [
  {
   "cell_type": "markdown",
   "metadata": {},
   "source": [
    "## Initialize the libraries and origin and destination workspaces"
   ]
  },
  {
   "cell_type": "code",
   "execution_count": 1,
   "metadata": {},
   "outputs": [],
   "source": [
    "from azure.cognitiveservices.vision.customvision.training import training_api\n",
    "from azure.cognitiveservices.vision.customvision.training.models import ImageUrlCreateEntry, Region\n",
    "\n",
    "# DESTINATION Keys\n",
    "dest_training_key = \"970bf90c200d4f429a233dee4239e8f1\"\n",
    "dest_prediction_key = \"23287e52d75349138403089743a504ab\"\n",
    "\n",
    "\n",
    "# ORIGIN Keys\n",
    "training_key = \"970bf90c200d4f429a233dee4239e8f1\"\n",
    "prediction_key = \"23287e52d75349138403089743a504ab\"\n",
    "\n",
    "trainer = training_api.TrainingApi(training_key)\n",
    "dest_trainer = training_api.TrainingApi(dest_training_key)\n",
    "\n",
    "# Find the object detection domain\n",
    "obj_detection_domain = next(domain for domain in trainer.get_domains() if domain.type == \"ObjectDetection\")\n",
    "dest_obj_detection_domain = next(domain for domain in dest_trainer.get_domains() if domain.type == \"ObjectDetection\")"
   ]
  },
  {
   "cell_type": "markdown",
   "metadata": {},
   "source": [
    "## Get the origin project ID reference"
   ]
  },
  {
   "cell_type": "code",
   "execution_count": 2,
   "metadata": {},
   "outputs": [],
   "source": [
    "myProjects = trainer.get_projects()"
   ]
  },
  {
   "cell_type": "code",
   "execution_count": 3,
   "metadata": {},
   "outputs": [
    {
     "name": "stdout",
     "output_type": "stream",
     "text": [
      "PowerItems_Detection\n",
      "70e7718a-e1f1-45d5-bba1-60b224f55365\n",
      "Model to detect Power line objects\n"
     ]
    }
   ],
   "source": [
    "for project in myProjects:\n",
    "    print(project.name)\n",
    "    print(project.id)\n",
    "    print(project.description)"
   ]
  },
  {
   "cell_type": "code",
   "execution_count": 4,
   "metadata": {},
   "outputs": [],
   "source": [
    "Project = trainer.get_project(project_id=\"70e7718a-e1f1-45d5-bba1-60b224f55365\")"
   ]
  },
  {
   "cell_type": "markdown",
   "metadata": {},
   "source": [
    "## Create the destination Project "
   ]
  },
  {
   "cell_type": "code",
   "execution_count": 5,
   "metadata": {},
   "outputs": [],
   "source": [
    "dest_Project = dest_trainer.create_project(\"PowerItems_Detection_Copy\", domain_id=dest_obj_detection_domain.id)"
   ]
  },
  {
   "cell_type": "code",
   "execution_count": 6,
   "metadata": {},
   "outputs": [
    {
     "name": "stdout",
     "output_type": "stream",
     "text": [
      "PowerItems_Detection_Copy\n",
      "850f7aa1-725c-49f7-b897-af8fc8d038fe\n",
      "\n",
      "PowerItems_Detection\n",
      "70e7718a-e1f1-45d5-bba1-60b224f55365\n",
      "Model to detect Power line objects\n"
     ]
    }
   ],
   "source": [
    "for project in dest_trainer.get_projects():\n",
    "    print(project.name)\n",
    "    print(project.id)\n",
    "    print(project.description)"
   ]
  },
  {
   "cell_type": "markdown",
   "metadata": {},
   "source": [
    "## Get the tags on origin project and create same tags on destination project"
   ]
  },
  {
   "cell_type": "code",
   "execution_count": 7,
   "metadata": {
    "scrolled": true
   },
   "outputs": [
    {
     "name": "stdout",
     "output_type": "stream",
     "text": [
      "crossarm\n",
      "pole\n",
      "insulator\n",
      "switch\n",
      "transformer\n"
     ]
    }
   ],
   "source": [
    "dest_tags = []\n",
    "for tag in trainer.get_tags(Project.id):\n",
    "    dest_tags.append(dest_trainer.create_tag(dest_Project.id, tag.name))\n",
    "    print(tag.name)"
   ]
  },
  {
   "cell_type": "code",
   "execution_count": 8,
   "metadata": {},
   "outputs": [
    {
     "name": "stdout",
     "output_type": "stream",
     "text": [
      "{'crossarm': '341c780e-b29c-4c07-973f-37a42593e3bb', 'transformer': '5aa533cb-7237-48a8-a271-7376e733b775', 'insulator': '8e5fab81-9335-461e-a2d5-35ad8f4bd1f9', 'pole': '8b4660eb-5803-4182-957c-e7c600ef6e19', 'switch': 'fce8fe21-89d2-4c9d-8e4d-1ce497d8d5fb'}\n",
      "['341c780e-b29c-4c07-973f-37a42593e3bb', '8b4660eb-5803-4182-957c-e7c600ef6e19', '8e5fab81-9335-461e-a2d5-35ad8f4bd1f9', 'fce8fe21-89d2-4c9d-8e4d-1ce497d8d5fb', '5aa533cb-7237-48a8-a271-7376e733b775']\n"
     ]
    }
   ],
   "source": [
    "dest_tags_dict = {}\n",
    "dest_tag_ids = []\n",
    "for tag in dest_tags:\n",
    "    dest_tags_dict[tag.name] = tag.id\n",
    "    dest_tag_ids.append(tag.id)\n",
    "\n",
    "print(dest_tags_dict)\n",
    "print(dest_tag_ids)"
   ]
  },
  {
   "cell_type": "markdown",
   "metadata": {},
   "source": [
    "## Get the images with regions on origin project"
   ]
  },
  {
   "cell_type": "code",
   "execution_count": 9,
   "metadata": {},
   "outputs": [],
   "source": [
    "tagged_images = trainer.get_tagged_images(Project.id, take=trainer.get_tagged_image_count(Project.id))"
   ]
  },
  {
   "cell_type": "code",
   "execution_count": 10,
   "metadata": {},
   "outputs": [
    {
     "name": "stdout",
     "output_type": "stream",
     "text": [
      "Adding images...\n",
      "Done\n"
     ]
    }
   ],
   "source": [
    "print (\"Adding images...\")\n",
    "tagged_images_with_regions = []\n",
    "for image in tagged_images:\n",
    "    dest_regions = []\n",
    "    \n",
    "    for region in image.regions:\n",
    "        dest_regions.append(Region(tag_id=dest_tags_dict[region.tag_name], left=region.left, top=region.top, width=region.width, height=region.height))\n",
    "\n",
    "    tagged_images_with_regions.append(ImageUrlCreateEntry(url=image.image_uri, tag_ids=dest_tag_ids, regions=dest_regions))\n",
    "print(\"Done\")"
   ]
  },
  {
   "cell_type": "markdown",
   "metadata": {},
   "source": [
    "## Create the images with regions on destination project"
   ]
  },
  {
   "cell_type": "code",
   "execution_count": 11,
   "metadata": {},
   "outputs": [],
   "source": [
    "limit = 64 # this is a limit imposed on the API, so we need to batch the creation process\n",
    "count_of_images = len(tagged_images_with_regions)\n",
    "\n",
    "for i in range(0,count_of_images,limit):\n",
    "    begin=i\n",
    "    end=limit+i\n",
    "    if(end > count_of_images ): end = count_of_images\n",
    "    dest_trainer.create_images_from_urls(dest_Project.id, images=tagged_images_with_regions[begin:end])"
   ]
  },
  {
   "cell_type": "code",
   "execution_count": 12,
   "metadata": {},
   "outputs": [
    {
     "name": "stdout",
     "output_type": "stream",
     "text": [
      "Count of Tagged images on destination project: 161\n",
      "Count of Tagged images on destination project: 161\n"
     ]
    }
   ],
   "source": [
    "print(\"Count of Tagged images on destination project: \" + str(trainer.get_tagged_image_count(Project.id)))\n",
    "print(\"Count of Tagged images on destination project: \" + str(dest_trainer.get_tagged_image_count(dest_Project.id)))"
   ]
  },
  {
   "cell_type": "markdown",
   "metadata": {},
   "source": [
    "## Train the model on destination Project"
   ]
  },
  {
   "cell_type": "code",
   "execution_count": 13,
   "metadata": {},
   "outputs": [
    {
     "name": "stdout",
     "output_type": "stream",
     "text": [
      "Training... (showing status each 10 seconds)\n",
      "Training status: Training\n",
      "Training status: Training\n",
      "Training status: Training\n",
      "Training status: Training\n",
      "Training status: Training\n",
      "Training status: Training\n",
      "Training status: Training\n",
      "Training status: Training\n",
      "Training status: Training\n",
      "Training status: Training\n",
      "Training status: Training\n",
      "Training status: Training\n",
      "Training status: Training\n",
      "Training status: Training\n",
      "Training status: Training\n",
      "Training status: Training\n",
      "Training status: Training\n",
      "Training status: Training\n",
      "Training status: Training\n",
      "Training status: Training\n",
      "Training status: Training\n",
      "Training status: Training\n",
      "Training status: Training\n",
      "Training status: Training\n",
      "Training status: Completed\n",
      "Done!\n"
     ]
    }
   ],
   "source": [
    "import time\n",
    "\n",
    "print (\"Training... (showing status each 10 seconds)\")\n",
    "iteration = dest_trainer.train_project(dest_Project.id)\n",
    "while (iteration.status != \"Completed\"):\n",
    "    iteration = dest_trainer.get_iteration(dest_Project.id, iteration.id)\n",
    "    print (\"Training status: \" + iteration.status)\n",
    "    time.sleep(10)\n",
    "\n",
    "# The iteration is now trained. Make it the default project endpoint\n",
    "dest_trainer.update_iteration(dest_Project.id, iteration.id, is_default=True)\n",
    "print (\"Done!\")"
   ]
  },
  {
   "cell_type": "markdown",
   "metadata": {},
   "source": [
    "## Get and use the default prediction endpoint"
   ]
  },
  {
   "cell_type": "code",
   "execution_count": 14,
   "metadata": {},
   "outputs": [],
   "source": [
    "#You can make a web search online for \"powerline pole\" and get an URL:\n",
    "url = \"https://qtxasset.com/styles/breakpoint_xl_880px_w/s3fs/FierceTelecom-1512405505/power-line.jpg/power-line.jpg\""
   ]
  },
  {
   "cell_type": "markdown",
   "metadata": {},
   "source": [
    "<div style=\"width:100%; margin-left:auto; margin-right:auto; margin-bottom:5px; margin-top:17px;\">\n",
    "<img src=\"https://qtxasset.com/styles/breakpoint_xl_880px_w/s3fs/FierceTelecom-1512405505/power-line.jpg/power-line.jpg\" alt=\"IMAGE\" /><br>\n",
    "</div>"
   ]
  },
  {
   "cell_type": "code",
   "execution_count": null,
   "metadata": {},
   "outputs": [],
   "source": [
    "from azure.cognitiveservices.vision.customvision.prediction import prediction_endpoint\n",
    "from azure.cognitiveservices.vision.customvision.prediction.prediction_endpoint import models\n",
    "\n",
    "# Now there is a trained endpoint that can be used to make a prediction\n",
    "dest_predictor = prediction_endpoint.PredictionEndpoint(dest_prediction_key)\n",
    "\n",
    "# Open the sample image and get back the prediction results.\n",
    "results = dest_predictor.predict_image_url(dest_Project.id, iteration_id=iteration.id, url=url)"
   ]
  },
  {
   "cell_type": "code",
   "execution_count": 16,
   "metadata": {},
   "outputs": [
    {
     "name": "stdout",
     "output_type": "stream",
     "text": [
      "\tcrossarm: 84.18% 0.06955993 0.127402514 0.6086974 0.188501686\n",
      "\tinsulator: 36.78% 0.08503753 0.105132759 0.0558488667 0.09866512\n",
      "\tinsulator: 29.66% 0.5926842 0.139620245 0.0359255075 0.100303918\n",
      "\tinsulator: 55.25% 0.8356637 0.175214514 0.0554241538 0.112975791\n",
      "\tinsulator: 52.13% 0.2076345 0.475562364 0.0474298447 0.104888767\n",
      "\tinsulator: 20.84% 0.5068957 0.502736032 0.0600918531 0.123302519\n",
      "\tswitch: 22.96% 0.08503753 0.105132759 0.0558488667 0.09866512\n",
      "\tswitch: 21.96% 0.228568792 0.6182601 0.06475127 0.110271454\n"
     ]
    }
   ],
   "source": [
    "# Display the results.\n",
    "for prediction in results.predictions:\n",
    "    if(prediction.probability > 0.2): # only show the prediction with more than 30% threshold probability\n",
    "        print (\"\\t\" + prediction.tag_name + \": {0:.2f}%\".format(prediction.probability * 100), prediction.bounding_box.left, prediction.bounding_box.top, prediction.bounding_box.width, prediction.bounding_box.height)"
   ]
  }
 ],
 "metadata": {
  "kernelspec": {
   "display_name": "Python 3",
   "language": "python",
   "name": "python3"
  },
  "language_info": {
   "codemirror_mode": {
    "name": "ipython",
    "version": 3
   },
   "file_extension": ".py",
   "mimetype": "text/x-python",
   "name": "python",
   "nbconvert_exporter": "python",
   "pygments_lexer": "ipython3",
   "version": "3.5.4"
  }
 },
 "nbformat": 4,
 "nbformat_minor": 2
}
